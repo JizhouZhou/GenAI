{
 "cells": [
  {
   "cell_type": "code",
   "execution_count": 5,
   "id": "6180935d-e2e4-4fe1-a9fb-893262037e3d",
   "metadata": {},
   "outputs": [
    {
     "name": "stdout",
     "output_type": "stream",
     "text": [
      "Converted './RF_with_lookahead_raw_005.parquet' to 'w_bias.csv'\n"
     ]
    }
   ],
   "source": [
    "\n",
    "\n",
    "import pandas as pd\n",
    "\n",
    "# Replace with your actual file paths\n",
    "input_parquet_file = './RF_with_lookahead_raw_005.parquet'\n",
    "output_csv_file = 'w_bias.csv'\n",
    "\n",
    "# Read the parquet file\n",
    "df = pd.read_parquet(input_parquet_file)\n",
    "\n",
    "# Write to CSV\n",
    "df.to_csv(output_csv_file, index=False)\n",
    "\n",
    "print(f\"Converted '{input_parquet_file}' to '{output_csv_file}'\")"
   ]
  },
  {
   "cell_type": "code",
   "execution_count": 6,
   "id": "c35f04d1-0f64-478f-9bec-aa134fe4ef0b",
   "metadata": {},
   "outputs": [
    {
     "name": "stdout",
     "output_type": "stream",
     "text": [
      "Converted './RF_wo_lookahead_raw_005.parquet' to 'wo_bias.csv'\n"
     ]
    }
   ],
   "source": [
    "\n",
    "\n",
    "import pandas as pd\n",
    "\n",
    "# Replace with your actual file paths\n",
    "input_parquet_file = './RF_wo_lookahead_raw_005.parquet'\n",
    "output_csv_file = 'wo_bias.csv'\n",
    "\n",
    "# Read the parquet file\n",
    "df = pd.read_parquet(input_parquet_file)\n",
    "\n",
    "# Write to CSV\n",
    "df.to_csv(output_csv_file, index=False)\n",
    "\n",
    "print(f\"Converted '{input_parquet_file}' to '{output_csv_file}'\")"
   ]
  },
  {
   "cell_type": "code",
   "execution_count": null,
   "id": "f978db1c-ce95-477e-a530-e5f0d0537e55",
   "metadata": {},
   "outputs": [],
   "source": []
  }
 ],
 "metadata": {
  "kernelspec": {
   "display_name": "Python 3 (ipykernel)",
   "language": "python",
   "name": "python3"
  },
  "language_info": {
   "codemirror_mode": {
    "name": "ipython",
    "version": 3
   },
   "file_extension": ".py",
   "mimetype": "text/x-python",
   "name": "python",
   "nbconvert_exporter": "python",
   "pygments_lexer": "ipython3",
   "version": "3.9.6"
  }
 },
 "nbformat": 4,
 "nbformat_minor": 5
}
