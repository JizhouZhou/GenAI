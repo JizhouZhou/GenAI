{
 "cells": [
  {
   "cell_type": "code",
   "execution_count": 1,
   "id": "ae279a9a-2c3f-4ebc-a47a-c462968ad3f5",
   "metadata": {},
   "outputs": [
    {
     "name": "stdout",
     "output_type": "stream",
     "text": [
      "Requirement already satisfied: tqdm in /Users/zhou/PyVENV/lib/python3.9/site-packages (4.67.1)\n",
      "Requirement already satisfied: pyarrow in /Users/zhou/PyVENV/lib/python3.9/site-packages (19.0.1)\n"
     ]
    }
   ],
   "source": [
    "try:\n",
    "    !pip install tqdm\n",
    "    !pip install pyarrow\n",
    "except:\n",
    "    pass\n",
    "\n",
    "# Import libraries\n",
    "import numpy as np\n",
    "import pandas as pd\n",
    "import matplotlib.pyplot as plt\n",
    "from pandas.tseries.offsets import *\n",
    "from tqdm import tqdm\n",
    "from functools import reduce\n",
    "import warnings\n",
    "warnings.filterwarnings(\"ignore\", category=DeprecationWarning)"
   ]
  },
  {
   "cell_type": "code",
   "execution_count": 2,
   "id": "7e373698-119a-4a01-8f07-87d62dc4e83b",
   "metadata": {},
   "outputs": [
    {
     "name": "stdout",
     "output_type": "stream",
     "text": [
      "crsp rows: 2704599\n"
     ]
    }
   ],
   "source": [
    "# Load and prepare CRSP monthly data\n",
    "crsp = pd.read_parquet('./data/WRDS/crsp_m.parquet')\n",
    "crsp['prc'] = abs(crsp['prc'])\n",
    "crsp['ME'] = crsp['prc'] * crsp['shrout']  # Market equity\n",
    "crsp.sort_values(by=['permno', 'YearMonth'], inplace=True)\n",
    "crsp['bh1m'] = crsp.groupby('permno')['retadj'].shift(-1)  # Buy-and-hold return next month\n",
    "crsp['prc_l1'] = crsp.groupby('permno')['prc'].shift(1)    # Lagged price\n",
    "print(\"crsp rows:\", crsp.shape[0])"
   ]
  },
  {
   "cell_type": "code",
   "execution_count": 3,
   "id": "20248e1f-3489-4dc9-80aa-0118b72d4cbe",
   "metadata": {},
   "outputs": [],
   "source": [
    "# Load and prepare IBES actual EPS data\n",
    "EPS_true = pd.read_stata('./data/WRDS/EPS_unadjusted_actual_full.dta')\n",
    "EPS_true['YearMonth'] = EPS_true['ANNDATS'] + MonthEnd(0)\n",
    "EPS_true['EPS_true'] = EPS_true['VALUE']"
   ]
  },
  {
   "cell_type": "code",
   "execution_count": 4,
   "id": "9631dd66-980f-41c0-83ec-bac661d9c49d",
   "metadata": {},
   "outputs": [],
   "source": [
    "# Separate into quarterly and annual EPS\n",
    "EPS_true_qtr = EPS_true[EPS_true['PDICITY'] == 'QTR'].sort_values(by=['TICKER','PENDS'])\n",
    "EPS_true_ann = EPS_true[EPS_true['PDICITY'] == 'ANN'].sort_values(by=['TICKER','PENDS'])"
   ]
  },
  {
   "cell_type": "code",
   "execution_count": 5,
   "id": "4ecf96f4-8ebb-4caf-accd-217f36685ca2",
   "metadata": {},
   "outputs": [],
   "source": [
    "# Lag EPS and announcement dates\n",
    "EPS_true_qtr['EPS_true_l1'] = EPS_true_qtr.groupby('TICKER')['EPS_true'].shift(1)\n",
    "EPS_true_qtr['ANNDATS_l1'] = EPS_true_qtr.groupby('TICKER')['ANNDATS'].shift(1)\n",
    "EPS_true_ann['EPS_true_l1'] = EPS_true_ann.groupby('TICKER')['EPS_true'].shift(1)\n",
    "EPS_true_ann['ANNDATS_l1'] = EPS_true_ann.groupby('TICKER')['ANNDATS'].shift(1)"
   ]
  },
  {
   "cell_type": "code",
   "execution_count": 6,
   "id": "475b7ba5-7028-42d9-a061-d9ad8a7be159",
   "metadata": {},
   "outputs": [],
   "source": [
    "# Load IBES consensus forecasts and merge with actuals\n",
    "consensus = pd.read_parquet('./data/WRDS/EPS_summary.parquet')\n",
    "consensus['YearMonth'] = consensus['STATPERS'] + MonthEnd(0)\n",
    "consensus['EPS_ana'] = consensus['MEANEST']"
   ]
  },
  {
   "cell_type": "code",
   "execution_count": 7,
   "id": "b6fc218b-942d-4d08-bd5a-9c16c99e5ee3",
   "metadata": {},
   "outputs": [],
   "source": [
    "# Split into quarterly and annual forecasts\n",
    "consensus_quarter = consensus[consensus.FPI.isin(['6','7','8'])].copy()\n",
    "consensus_annual = consensus[consensus.FPI.isin(['1','2'])].copy()"
   ]
  },
  {
   "cell_type": "code",
   "execution_count": 8,
   "id": "3dae2156-add1-4cca-be6d-67e455240c65",
   "metadata": {},
   "outputs": [
    {
     "name": "stdout",
     "output_type": "stream",
     "text": [
      "consensus_quarter after merge rows: 7035910\n"
     ]
    }
   ],
   "source": [
    "# Merge with actual EPS (quarterly)\n",
    "consensus_quarter = consensus_quarter.merge(\n",
    "    EPS_true_qtr[['TICKER','PENDS','EPS_true','ANNDATS','ANNDATS_l1','EPS_true_l1']], \n",
    "    left_on=['TICKER','FPEDATS'], \n",
    "    right_on=['TICKER','PENDS']\n",
    ")\n",
    "print(\"consensus_quarter after merge rows:\", consensus_quarter.shape[0])"
   ]
  },
  {
   "cell_type": "code",
   "execution_count": 9,
   "id": "ee10b41c-00d2-4273-b375-0a944be6ed24",
   "metadata": {},
   "outputs": [
    {
     "name": "stdout",
     "output_type": "stream",
     "text": [
      "consensus_annual after merge rows: 11758331\n"
     ]
    }
   ],
   "source": [
    "# Merge with actual EPS (annual)\n",
    "consensus_annual = consensus_annual.merge(\n",
    "    EPS_true_ann[['TICKER','PENDS','EPS_true','ANNDATS','ANNDATS_l1','EPS_true_l1']], \n",
    "    left_on=['TICKER','FPEDATS'], \n",
    "    right_on=['TICKER','PENDS']\n",
    ")\n",
    "print(\"consensus_annual after merge rows:\", consensus_annual.shape[0])"
   ]
  },
  {
   "cell_type": "code",
   "execution_count": 10,
   "id": "e82ff1f4-9c12-46d4-8fbc-86f9215c69e6",
   "metadata": {},
   "outputs": [
    {
     "name": "stdout",
     "output_type": "stream",
     "text": [
      "consensus combined rows: 18794241\n"
     ]
    }
   ],
   "source": [
    "# Combine the two\n",
    "consensus = pd.concat([consensus_quarter, consensus_annual], axis=0)\n",
    "print(\"consensus combined rows:\", consensus.shape[0])"
   ]
  },
  {
   "cell_type": "code",
   "execution_count": 11,
   "id": "32c0235d-e882-4803-b405-3c44cd134fe3",
   "metadata": {},
   "outputs": [
    {
     "name": "stdout",
     "output_type": "stream",
     "text": [
      "iclink rows: 29751\n"
     ]
    }
   ],
   "source": [
    "# Load and clean CRSP-IBES link table\n",
    "iclink = pd.read_csv('./data/WRDS/iclink_WRDS.csv')\n",
    "iclink.columns = ['ticker','permno','ncusip','sdate','edate','score']\n",
    "iclink['sdate'] = pd.to_datetime(iclink['sdate'])\n",
    "iclink['edate'] = pd.to_datetime(iclink['edate'])\n",
    "iclink.dropna(subset=['permno'], inplace=True)\n",
    "print(\"iclink rows:\", iclink.shape[0])"
   ]
  },
  {
   "cell_type": "code",
   "execution_count": 12,
   "id": "55620e6f-c424-4e65-a783-35922a185961",
   "metadata": {},
   "outputs": [
    {
     "name": "stdout",
     "output_type": "stream",
     "text": [
      "a1 initial rows: 6261065\n"
     ]
    }
   ],
   "source": [
    "# Process FPI = 1 (annual forecast)\n",
    "a1 = consensus[consensus['FPI'] == '1'][['TICKER', 'STATPERS', 'FPEDATS', 'ANNDATS', 'CUSIP', 'EPS_ana',\n",
    "                                         'EPS_true', 'EPS_true_l1', 'ANNDATS_l1']].drop_duplicates(subset=['TICKER', 'STATPERS']).copy()\n",
    "print(\"a1 initial rows:\", a1.shape[0])"
   ]
  },
  {
   "cell_type": "code",
   "execution_count": 13,
   "id": "473d46fb-0b3b-4838-9cf5-3cfc1b99fb6e",
   "metadata": {},
   "outputs": [
    {
     "name": "stdout",
     "output_type": "stream",
     "text": [
      "a1 after link merge rows: 3138358\n"
     ]
    }
   ],
   "source": [
    "# Merge with CRSP-IBES link and filter by valid dates\n",
    "a1 = a1.merge(iclink[['ticker', 'permno', 'sdate', 'edate', 'score']], \n",
    "              left_on='TICKER', right_on='ticker')\n",
    "print(\"a1 after link merge rows:\", a1.shape[0])"
   ]
  },
  {
   "cell_type": "code",
   "execution_count": 14,
   "id": "34f242f1-b303-4f30-8b16-8836faf57e41",
   "metadata": {},
   "outputs": [
    {
     "name": "stdout",
     "output_type": "stream",
     "text": [
      "a1 after date filter rows: 1867422\n"
     ]
    }
   ],
   "source": [
    "a1 = a1[(a1['STATPERS'] >= a1['sdate']) & (a1['STATPERS'] <= a1['edate'])]\n",
    "print(\"a1 after date filter rows:\", a1.shape[0])"
   ]
  },
  {
   "cell_type": "code",
   "execution_count": 15,
   "id": "e8c06ab7-adde-4f44-b6bf-27f35ff40b62",
   "metadata": {},
   "outputs": [
    {
     "name": "stdout",
     "output_type": "stream",
     "text": [
      "a1 after EPS_true cfacshr merge rows: 1491868\n"
     ]
    }
   ],
   "source": [
    "# Adjust EPS using cfacshr at announcement date\n",
    "a1['ANN_m'] = a1['ANNDATS'] + MonthEnd(0)\n",
    "a1 = a1.merge(crsp[['permno', 'YearMonth', 'cfacshr']], \n",
    "              left_on=['permno', 'ANN_m'], right_on=['permno', 'YearMonth'])\n",
    "print(\"a1 after EPS_true cfacshr merge rows:\", a1.shape[0])"
   ]
  },
  {
   "cell_type": "code",
   "execution_count": 16,
   "id": "cc711d75-20c8-4030-86bb-43affdfa3e22",
   "metadata": {},
   "outputs": [
    {
     "name": "stdout",
     "output_type": "stream",
     "text": [
      "a1 after EPS_true_l1 cfacshr merge rows: 1491868\n"
     ]
    }
   ],
   "source": [
    "a1['EPS_true'] = a1['EPS_true'] / a1['cfacshr']\n",
    "a1.drop(columns=['YearMonth', 'cfacshr'], inplace=True)\n",
    "\n",
    "# Adjust lagged EPS\n",
    "a1['ANN_m'] = a1['ANNDATS_l1'] + MonthEnd(0)\n",
    "a1 = a1.merge(crsp[['permno', 'YearMonth', 'cfacshr']], \n",
    "              left_on=['permno', 'ANN_m'], right_on=['permno', 'YearMonth'],\n",
    "              how='left')\n",
    "print(\"a1 after EPS_true_l1 cfacshr merge rows:\", a1.shape[0])"
   ]
  },
  {
   "cell_type": "code",
   "execution_count": 17,
   "id": "da7b2cad-49d1-4736-9c57-6d0b38f44736",
   "metadata": {},
   "outputs": [
    {
     "name": "stdout",
     "output_type": "stream",
     "text": [
      "a1 after final cfacshr merge rows: 1490170\n"
     ]
    }
   ],
   "source": [
    "a1['cfacshr'] = pd.to_numeric(a1['cfacshr'], errors='coerce')\n",
    "a1['EPS_true_l1'] = pd.to_numeric(a1['EPS_true_l1'], errors='coerce')\n",
    "a1['EPS_true_l1'] = a1['EPS_true_l1'] / a1['cfacshr']\n",
    "a1.drop(columns=['YearMonth', 'cfacshr', 'sdate', 'edate', 'ANN_m'], inplace=True)\n",
    "\n",
    "# Adjust both EPS to current cfacshr at STATPERS date\n",
    "a1['YearMonth'] = a1['STATPERS'] + MonthEnd(0)\n",
    "a1 = a1.merge(crsp[['permno', 'YearMonth', 'cfacshr', 'ncusip']], on=['permno', 'YearMonth'])\n",
    "print(\"a1 after final cfacshr merge rows:\", a1.shape[0])"
   ]
  },
  {
   "cell_type": "code",
   "execution_count": 18,
   "id": "e26a76b8-d3ba-4f85-82a6-18fa5c1c8c22",
   "metadata": {},
   "outputs": [
    {
     "name": "stdout",
     "output_type": "stream",
     "text": [
      "a1 after CUSIP match rows: 1486269\n"
     ]
    }
   ],
   "source": [
    "a1['EPS_true'] = a1['EPS_true'] * a1['cfacshr']\n",
    "a1['EPS_true_l1'] = a1['EPS_true_l1'] * a1['cfacshr']\n",
    "\n",
    "# Keep observations where CUSIP matches\n",
    "a1 = a1[a1['CUSIP'] == a1['ncusip']].copy()\n",
    "print(\"a1 after CUSIP match rows:\", a1.shape[0])\n",
    "\n",
    "a1.drop(columns=['cfacshr', 'ncusip'], inplace=True)"
   ]
  },
  {
   "cell_type": "code",
   "execution_count": 19,
   "id": "02b6142e-cf98-4826-9852-67ebb8ac8061",
   "metadata": {},
   "outputs": [
    {
     "data": {
      "text/plain": [
       "<bound method NDFrame.head of         TICKER   STATPERS    FPEDATS    ANNDATS     CUSIP  EPS_ana  EPS_true  \\\n",
       "0         0000 2014-04-17 2014-12-31 2015-01-30  87482X10     0.52      1.21   \n",
       "1         0000 2014-05-15 2014-12-31 2015-01-30  87482X10     0.56      1.21   \n",
       "2         0000 2014-06-19 2014-12-31 2015-01-30  87482X10     0.56      1.21   \n",
       "3         0000 2014-07-17 2014-12-31 2015-01-30  87482X10     0.56      1.21   \n",
       "4         0000 2014-08-14 2014-12-31 2015-01-30  87482X10     1.18      1.21   \n",
       "...        ...        ...        ...        ...       ...      ...       ...   \n",
       "1490165   ZYNX 2022-10-20 2022-12-31 2023-03-13  98986M10     0.43      0.44   \n",
       "1490166   ZYNX 2022-11-17 2022-12-31 2023-03-13  98986M10     0.43      0.44   \n",
       "1490167   ZYNX 2022-12-15 2022-12-31 2023-03-13  98986M10     0.43      0.44   \n",
       "1490168   ZYNX 2023-01-19 2022-12-31 2023-03-13  98986M10     0.43      0.44   \n",
       "1490169   ZYNX 2023-02-16 2022-12-31 2023-03-13  98986M10     0.43      0.44   \n",
       "\n",
       "         EPS_true_l1 ANNDATS_l1 ticker   permno  score  YearMonth  \n",
       "0                NaN 2014-02-14   0000  14471.0      1 2014-04-30  \n",
       "1                NaN 2014-02-14   0000  14471.0      1 2014-05-31  \n",
       "2                NaN 2014-02-14   0000  14471.0      1 2014-06-30  \n",
       "3                NaN 2014-02-14   0000  14471.0      1 2014-07-31  \n",
       "4                NaN 2014-02-14   0000  14471.0      1 2014-08-31  \n",
       "...              ...        ...    ...      ...    ...        ...  \n",
       "1490165         0.44 2022-02-24   ZYNX  18418.0      1 2022-10-31  \n",
       "1490166         0.44 2022-02-24   ZYNX  18418.0      1 2022-11-30  \n",
       "1490167         0.44 2022-02-24   ZYNX  18418.0      1 2022-12-31  \n",
       "1490168         0.44 2022-02-24   ZYNX  18418.0      1 2023-01-31  \n",
       "1490169         0.44 2022-02-24   ZYNX  18418.0      1 2023-02-28  \n",
       "\n",
       "[1486269 rows x 13 columns]>"
      ]
     },
     "execution_count": 19,
     "metadata": {},
     "output_type": "execute_result"
    }
   ],
   "source": [
    "a1.head"
   ]
  },
  {
   "cell_type": "code",
   "execution_count": null,
   "id": "e8e31505-fa0a-4ef8-9951-bf690007d6e2",
   "metadata": {},
   "outputs": [],
   "source": []
  }
 ],
 "metadata": {
  "kernelspec": {
   "display_name": "Python 3 (ipykernel)",
   "language": "python",
   "name": "python3"
  },
  "language_info": {
   "codemirror_mode": {
    "name": "ipython",
    "version": 3
   },
   "file_extension": ".py",
   "mimetype": "text/x-python",
   "name": "python",
   "nbconvert_exporter": "python",
   "pygments_lexer": "ipython3",
   "version": "3.9.6"
  }
 },
 "nbformat": 4,
 "nbformat_minor": 5
}
