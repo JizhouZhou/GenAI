{
 "cells": [
  {
   "cell_type": "code",
   "execution_count": 1,
   "metadata": {
    "colab": {
     "base_uri": "https://localhost:8080/",
     "height": 0
    },
    "id": "cFsohLClVEEK",
    "outputId": "fceae1a5-43c6-4821-8ed3-93c6b4b334cf"
   },
   "outputs": [
    {
     "name": "stdout",
     "output_type": "stream",
     "text": [
      "Mounted at /content/gdrive\n"
     ]
    }
   ],
   "source": [
    "from google.colab import drive\n",
    "drive.mount('/content/gdrive')"
   ]
  },
  {
   "cell_type": "code",
   "execution_count": 2,
   "metadata": {
    "colab": {
     "base_uri": "https://localhost:8080/",
     "height": 0
    },
    "id": "ULQhz5TASCfY",
    "outputId": "c73e4e32-406a-4e7d-d284-5c3dc790451f"
   },
   "outputs": [
    {
     "name": "stdout",
     "output_type": "stream",
     "text": [
      "  TICKER     CUSIP OFTIC               CNAME   STATPERS MEASURE FISCALP FPI  \\\n",
      "0   0000  87482X10  TLMR  TALMER BANCORP INC 2014-04-17     EPS     QTR   6   \n",
      "1   0000  87482X10  TLMR  TALMER BANCORP INC 2014-05-15     EPS     QTR   6   \n",
      "2   0000  87482X10  TLMR  TALMER BANCORP INC 2014-06-19     EPS     QTR   6   \n",
      "3   0000  87482X10  TLMR  TALMER BANCORP INC 2014-07-17     EPS     QTR   6   \n",
      "4   0000  87482X10  TLMR  TALMER BANCORP INC 2014-04-17     EPS     QTR   7   \n",
      "\n",
      "  ESTFLAG CURCODE  NUMEST  NUMUP  NUMDOWN  MEDEST  MEANEST  STDEV  HIGHEST  \\\n",
      "0       P     USD     4.0    0.0      4.0    0.07     0.08   0.01     0.10   \n",
      "1       P     USD     5.0    3.0      0.0    0.13     0.13   0.01     0.15   \n",
      "2       P     USD     5.0    0.0      0.0    0.13     0.13   0.01     0.15   \n",
      "3       P     USD     5.0    0.0      0.0    0.13     0.13   0.01     0.15   \n",
      "4       P     USD     5.0    0.0      0.0    0.11     0.12   0.02     0.15   \n",
      "\n",
      "   LOWEST  USFIRM    FPEDATS  \n",
      "0    0.07     1.0 2014-03-31  \n",
      "1    0.12     1.0 2014-06-30  \n",
      "2    0.12     1.0 2014-06-30  \n",
      "3    0.12     1.0 2014-06-30  \n",
      "4    0.10     1.0 2014-06-30  \n"
     ]
    }
   ],
   "source": [
    "import pandas as pd\n",
    "\n",
    "# Step 1: Read the .dta file\n",
    "df = pd.read_stata(\"/content/gdrive/MyDrive/EPS_summary.dta\")\n",
    "\n",
    "# Step 2 (optional): Inspect the data\n",
    "print(df.head())\n",
    "\n",
    "# Step 3: Save as Parquet\n",
    "df.to_parquet(\"EPS_summary.parquet\")"
   ]
  }
 ],
 "metadata": {
  "accelerator": "TPU",
  "colab": {
   "gpuType": "V28",
   "provenance": []
  },
  "kernelspec": {
   "display_name": "Python 3 (ipykernel)",
   "language": "python",
   "name": "python3"
  },
  "language_info": {
   "codemirror_mode": {
    "name": "ipython",
    "version": 3
   },
   "file_extension": ".py",
   "mimetype": "text/x-python",
   "name": "python",
   "nbconvert_exporter": "python",
   "pygments_lexer": "ipython3",
   "version": "3.9.6"
  }
 },
 "nbformat": 4,
 "nbformat_minor": 4
}
