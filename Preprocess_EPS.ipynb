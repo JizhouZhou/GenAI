{
  "nbformat": 4,
  "nbformat_minor": 0,
  "metadata": {
    "colab": {
      "provenance": [],
      "gpuType": "V28"
    },
    "kernelspec": {
      "name": "python3",
      "display_name": "Python 3"
    },
    "language_info": {
      "name": "python"
    },
    "accelerator": "TPU"
  },
  "cells": [
    {
      "cell_type": "code",
      "source": [
        "from google.colab import drive\n",
        "drive.mount('/content/gdrive')"
      ],
      "metadata": {
        "colab": {
          "base_uri": "https://localhost:8080/",
          "height": 0
        },
        "id": "cFsohLClVEEK",
        "outputId": "fceae1a5-43c6-4821-8ed3-93c6b4b334cf"
      },
      "execution_count": 1,
      "outputs": [
        {
          "output_type": "stream",
          "name": "stdout",
          "text": [
            "Mounted at /content/gdrive\n"
          ]
        }
      ]
    },
    {
      "cell_type": "code",
      "execution_count": 2,
      "metadata": {
        "colab": {
          "base_uri": "https://localhost:8080/",
          "height": 0
        },
        "id": "ULQhz5TASCfY",
        "outputId": "c73e4e32-406a-4e7d-d284-5c3dc790451f"
      },
      "outputs": [
        {
          "output_type": "stream",
          "name": "stdout",
          "text": [
            "  TICKER     CUSIP OFTIC               CNAME   STATPERS MEASURE FISCALP FPI  \\\n",
            "0   0000  87482X10  TLMR  TALMER BANCORP INC 2014-04-17     EPS     QTR   6   \n",
            "1   0000  87482X10  TLMR  TALMER BANCORP INC 2014-05-15     EPS     QTR   6   \n",
            "2   0000  87482X10  TLMR  TALMER BANCORP INC 2014-06-19     EPS     QTR   6   \n",
            "3   0000  87482X10  TLMR  TALMER BANCORP INC 2014-07-17     EPS     QTR   6   \n",
            "4   0000  87482X10  TLMR  TALMER BANCORP INC 2014-04-17     EPS     QTR   7   \n",
            "\n",
            "  ESTFLAG CURCODE  NUMEST  NUMUP  NUMDOWN  MEDEST  MEANEST  STDEV  HIGHEST  \\\n",
            "0       P     USD     4.0    0.0      4.0    0.07     0.08   0.01     0.10   \n",
            "1       P     USD     5.0    3.0      0.0    0.13     0.13   0.01     0.15   \n",
            "2       P     USD     5.0    0.0      0.0    0.13     0.13   0.01     0.15   \n",
            "3       P     USD     5.0    0.0      0.0    0.13     0.13   0.01     0.15   \n",
            "4       P     USD     5.0    0.0      0.0    0.11     0.12   0.02     0.15   \n",
            "\n",
            "   LOWEST  USFIRM    FPEDATS  \n",
            "0    0.07     1.0 2014-03-31  \n",
            "1    0.12     1.0 2014-06-30  \n",
            "2    0.12     1.0 2014-06-30  \n",
            "3    0.12     1.0 2014-06-30  \n",
            "4    0.10     1.0 2014-06-30  \n"
          ]
        }
      ],
      "source": [
        "import pandas as pd\n",
        "\n",
        "# Step 1: Read the .dta file\n",
        "df = pd.read_stata(\"/content/gdrive/MyDrive/EPS_summary.dta\")\n",
        "\n",
        "# Step 2 (optional): Inspect the data\n",
        "print(df.head())\n",
        "\n",
        "# Step 3: Save as Parquet\n",
        "df.to_parquet(\"EPS_summary.parquet\")"
      ]
    }
  ]
}