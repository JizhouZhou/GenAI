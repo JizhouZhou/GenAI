{
 "cells": [
  {
   "cell_type": "code",
   "execution_count": 6,
   "id": "9f9bbed0-7f10-46cd-a761-45173302b364",
   "metadata": {},
   "outputs": [],
   "source": [
    "import pandas as pd\n",
    "\n",
    "# === Step 1: Load original datasets ===\n",
    "w_bias = pd.read_parquet('./data/Results/RF_with_lookahead_raw_005.parquet')            # Replication of Panel A\n",
    "df_train = pd.read_csv('./data/Results/df_train_a1.csv')     # IBES-merged dataset with actuals"
   ]
  },
  {
   "cell_type": "code",
   "execution_count": 22,
   "id": "bd70d3ae-04f2-4bcc-ab7d-dbb599ffb089",
   "metadata": {},
   "outputs": [
    {
     "name": "stdout",
     "output_type": "stream",
     "text": [
      "['Unnamed: 0', 'FPEDATS', 'EPS_ana_y1', 'EPS_true_y1', 'EPS_true_l1_y1', 'ANNDATS_y1', 'ANNDATS_l1_y1', 'permno', 'YearMonth', 'siccd', 'ret', 'prc', 'bh1m', 'shrout', 'ME', 'prc_l1', 'gvkey', 'adate', 'qdate', 'public_date', 'CAPEI', 'bm', 'evm', 'pe_op_basic', 'pe_op_dil', 'pe_exi', 'pe_inc', 'ps', 'pcf', 'dpr', 'npm', 'opmbd', 'opmad', 'gpm', 'ptpm', 'cfm', 'roa', 'roe', 'roce', 'efftax', 'aftret_eq', 'aftret_invcapx', 'aftret_equity', 'pretret_noa', 'pretret_earnat', 'GProf', 'equity_invcap', 'debt_invcap', 'totdebt_invcap', 'capital_ratio', 'int_debt', 'int_totdebt', 'cash_lt', 'invt_act', 'rect_act', 'debt_at', 'debt_ebitda', 'short_debt', 'curr_debt', 'lt_debt', 'profit_lct', 'ocf_lct', 'cash_debt', 'fcf_ocf', 'lt_ppent', 'dltt_be', 'debt_assets', 'debt_capital', 'de_ratio', 'intcov', 'intcov_ratio', 'cash_ratio', 'quick_ratio', 'curr_ratio', 'cash_conversion', 'inv_turn', 'at_turn', 'rect_turn', 'pay_turn', 'sale_invcap', 'sale_equity', 'sale_nwc', 'rd_sale', 'adv_sale', 'staff_sale', 'accrual', 'ptb', 'PEG_trailing', 'divyield', 'PEG_1yrforward', 'PEG_ltgforward', 'TICKER', 'cusip', 'datadate', 'sich', 'sic', 'fama49', 'dividend_p', 'BE_p', 'Liability_p', 'cur_liability_p', 'LT_debt_p', 'cash_p', 'total_asset_p', 'tot_debt_p', 'accrual_p', 'EBIT_p', 'cur_asset_p', 'pbda_p', 'ocf_p', 'inventory_p', 'receivables_p', 'Cur_debt_p', 'interest_p', 'fcf_ocf_p', 'evm_p', 'sales_p', 'invcap_p', 'c_equity_p', 'rd_p', 'opmad_p', 'gpm_p', 'ptpm_p', 'RGDP', 'RCON', 'INDPROD', 'UNEMP']\n",
      "['index', 'permno', 'YearMonth', 'RF_q1', 'AF_q1', 'AE_q1', 'RF_q2', 'AF_q2', 'AE_q2', 'RF_q3', 'AF_q3', 'AE_q3', 'RF_y1', 'AF_y1', 'AE_y1', 'RF_y2', 'AF_y2', 'AE_y2']\n"
     ]
    }
   ],
   "source": [
    "# Print all column names\n",
    "print(df_train.columns.tolist())\n",
    "print(w_bias.columns.tolist())"
   ]
  },
  {
   "cell_type": "code",
   "execution_count": 25,
   "id": "1f90502b-7633-4492-94d2-7b5d6664eec5",
   "metadata": {},
   "outputs": [
    {
     "name": "stdout",
     "output_type": "stream",
     "text": [
      "    permno  YearMonth   AF_y1  EPS_true_y1  eps_diff_y1\n",
      "0  10057.0 1986-01-31  1.2000        -0.34          0.0\n",
      "1  10145.0 1986-01-31  3.9800         3.40          0.0\n",
      "2  10154.0 1986-01-31  1.1500         1.01          0.0\n",
      "3  10218.0 1986-01-31  0.1500         0.01          0.0\n",
      "4  10364.0 1986-01-31 -1.8976        -2.87          0.0\n"
     ]
    }
   ],
   "source": [
    "# Convert YearMonth to datetime\n",
    "w_bias['YearMonth'] = pd.to_datetime(w_bias['YearMonth'])\n",
    "df_train['YearMonth'] = pd.to_datetime(df_train['YearMonth'])\n",
    "\n",
    "# Drop rows in w_bias with missing AE_y1 before merging\n",
    "w_bias = w_bias.dropna(subset=['AE_y1'])\n",
    "\n",
    "# Merge EPS_true_y1 into w_bias\n",
    "w_bias_merged = w_bias.merge(\n",
    "    df_train[['permno', 'YearMonth', 'EPS_true_y1']],\n",
    "    on=['permno', 'YearMonth'],\n",
    "    how='left'\n",
    ")\n",
    "\n",
    "# Create new variable: difference between actual and forecasted earnings\n",
    "w_bias_merged['eps_diff_y1'] = w_bias_merged['EPS_true_y1'] - w_bias_merged['AE_y1']\n",
    "\n",
    "# Preview result\n",
    "print(w_bias_merged[['permno', 'YearMonth', 'AF_y1', 'EPS_true_y1', 'eps_diff_y1']].head())"
   ]
  },
  {
   "cell_type": "code",
   "execution_count": 27,
   "id": "6ea3e733-2602-4dac-91dc-a1c0f9f23e9b",
   "metadata": {},
   "outputs": [
    {
     "name": "stdout",
     "output_type": "stream",
     "text": [
      "Percentage of EPS_true_y1 ≠ AE_y1: 1.51% (18853 out of 1245902 rows)\n"
     ]
    }
   ],
   "source": [
    "# Drop rows with missing values in either actual or forecast\n",
    "valid = w_bias_merged.dropna(subset=['EPS_true_y1', 'AE_y1'])\n",
    "\n",
    "# Check if actual != forecast\n",
    "diff = valid['EPS_true_y1'] != valid['AE_y1']\n",
    "\n",
    "# Compute percentage\n",
    "diff_rate = diff.mean()\n",
    "print(f\"Percentage of EPS_true_y1 ≠ AE_y1: {diff_rate:.2%} ({diff.sum()} out of {len(valid)} rows)\")"
   ]
  },
  {
   "cell_type": "code",
   "execution_count": 28,
   "id": "f43d62b1-d2ab-4f4e-b585-f46d35e4db30",
   "metadata": {},
   "outputs": [],
   "source": [
    "# Save to Stata format\n",
    "w_bias_merged.to_stata('data/w_bias_jz_y1.dta', write_index=False)"
   ]
  }
 ],
 "metadata": {
  "kernelspec": {
   "display_name": "Python 3 (ipykernel)",
   "language": "python",
   "name": "python3"
  },
  "language_info": {
   "codemirror_mode": {
    "name": "ipython",
    "version": 3
   },
   "file_extension": ".py",
   "mimetype": "text/x-python",
   "name": "python",
   "nbconvert_exporter": "python",
   "pygments_lexer": "ipython3",
   "version": "3.9.6"
  }
 },
 "nbformat": 4,
 "nbformat_minor": 5
}
