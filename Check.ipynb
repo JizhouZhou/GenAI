{
 "cells": [
  {
   "cell_type": "code",
   "execution_count": 4,
   "id": "9f9bbed0-7f10-46cd-a761-45173302b364",
   "metadata": {},
   "outputs": [],
   "source": [
    "import pandas as pd\n",
    "\n",
    "# === Step 1: Load original datasets ===\n",
    "w_bias = pd.read_parquet('./data/Results/RF_with_lookahead_raw_005.parquet')            # Replication of Panel A\n",
    "df_train = pd.read_csv('./data/Results/df_train_a1.csv')     # IBES-merged dataset with actuals"
   ]
  },
  {
   "cell_type": "code",
   "execution_count": 2,
   "id": "bd70d3ae-04f2-4bcc-ab7d-dbb599ffb089",
   "metadata": {},
   "outputs": [
    {
     "name": "stdout",
     "output_type": "stream",
     "text": [
      "['Unnamed: 0', 'FPEDATS', 'EPS_ana_y1', 'EPS_true_y1', 'EPS_true_l1_y1', 'ANNDATS_y1', 'ANNDATS_l1_y1', 'permno', 'YearMonth', 'siccd', 'ret', 'prc', 'bh1m', 'shrout', 'ME', 'prc_l1', 'gvkey', 'adate', 'qdate', 'public_date', 'CAPEI', 'bm', 'evm', 'pe_op_basic', 'pe_op_dil', 'pe_exi', 'pe_inc', 'ps', 'pcf', 'dpr', 'npm', 'opmbd', 'opmad', 'gpm', 'ptpm', 'cfm', 'roa', 'roe', 'roce', 'efftax', 'aftret_eq', 'aftret_invcapx', 'aftret_equity', 'pretret_noa', 'pretret_earnat', 'GProf', 'equity_invcap', 'debt_invcap', 'totdebt_invcap', 'capital_ratio', 'int_debt', 'int_totdebt', 'cash_lt', 'invt_act', 'rect_act', 'debt_at', 'debt_ebitda', 'short_debt', 'curr_debt', 'lt_debt', 'profit_lct', 'ocf_lct', 'cash_debt', 'fcf_ocf', 'lt_ppent', 'dltt_be', 'debt_assets', 'debt_capital', 'de_ratio', 'intcov', 'intcov_ratio', 'cash_ratio', 'quick_ratio', 'curr_ratio', 'cash_conversion', 'inv_turn', 'at_turn', 'rect_turn', 'pay_turn', 'sale_invcap', 'sale_equity', 'sale_nwc', 'rd_sale', 'adv_sale', 'staff_sale', 'accrual', 'ptb', 'PEG_trailing', 'divyield', 'PEG_1yrforward', 'PEG_ltgforward', 'TICKER', 'cusip', 'datadate', 'sich', 'sic', 'fama49', 'dividend_p', 'BE_p', 'Liability_p', 'cur_liability_p', 'LT_debt_p', 'cash_p', 'total_asset_p', 'tot_debt_p', 'accrual_p', 'EBIT_p', 'cur_asset_p', 'pbda_p', 'ocf_p', 'inventory_p', 'receivables_p', 'Cur_debt_p', 'interest_p', 'fcf_ocf_p', 'evm_p', 'sales_p', 'invcap_p', 'c_equity_p', 'rd_p', 'opmad_p', 'gpm_p', 'ptpm_p', 'RGDP', 'RCON', 'INDPROD', 'UNEMP']\n",
      "['index', 'permno', 'YearMonth', 'RF_q1', 'AF_q1', 'AE_q1', 'RF_q2', 'AF_q2', 'AE_q2', 'RF_q3', 'AF_q3', 'AE_q3', 'RF_y1', 'AF_y1', 'AE_y1', 'RF_y2', 'AF_y2', 'AE_y2']\n"
     ]
    }
   ],
   "source": [
    "# Print all column names\n",
    "print(df_train.columns.tolist())\n",
    "print(w_bias.columns.tolist())"
   ]
  },
  {
   "cell_type": "code",
   "execution_count": 3,
   "id": "1f90502b-7633-4492-94d2-7b5d6664eec5",
   "metadata": {},
   "outputs": [
    {
     "name": "stdout",
     "output_type": "stream",
     "text": [
      "    permno  YearMonth   AF_y1  EPS_true_y1  eps_diff_y1\n",
      "0  10057.0 1986-01-31  1.2000        -0.34          0.0\n",
      "1  10145.0 1986-01-31  3.9800         3.40          0.0\n",
      "2  10154.0 1986-01-31  1.1500         1.01          0.0\n",
      "3  10218.0 1986-01-31  0.1500         0.01          0.0\n",
      "4  10364.0 1986-01-31 -1.8976        -2.87          0.0\n"
     ]
    }
   ],
   "source": [
    "# Convert YearMonth to datetime\n",
    "w_bias['YearMonth'] = pd.to_datetime(w_bias['YearMonth'])\n",
    "df_train['YearMonth'] = pd.to_datetime(df_train['YearMonth'])\n",
    "\n",
    "# Drop rows in w_bias with missing AE_y1 before merging\n",
    "w_bias = w_bias.dropna(subset=['AE_y1'])\n",
    "\n",
    "# Merge EPS_true_y1 into w_bias\n",
    "w_bias_merged = w_bias.merge(\n",
    "    df_train[['permno', 'YearMonth', 'EPS_true_y1', 'FPEDATS']],\n",
    "    on=['permno', 'YearMonth'],\n",
    "    how='left'\n",
    ")\n",
    "\n",
    "# Create new variable: difference between actual and forecasted earnings\n",
    "w_bias_merged['eps_diff_y1'] = w_bias_merged['EPS_true_y1'] - w_bias_merged['AE_y1']\n",
    "\n",
    "# Preview result\n",
    "print(w_bias_merged[['permno', 'YearMonth', 'AF_y1', 'EPS_true_y1', 'eps_diff_y1']].head())"
   ]
  },
  {
   "cell_type": "code",
   "execution_count": 4,
   "id": "6ea3e733-2602-4dac-91dc-a1c0f9f23e9b",
   "metadata": {},
   "outputs": [
    {
     "name": "stdout",
     "output_type": "stream",
     "text": [
      "Percentage of EPS_true_y1 ≠ AE_y1: 1.51% (18853 out of 1245902 rows)\n"
     ]
    }
   ],
   "source": [
    "# Drop rows with missing values in either actual or forecast\n",
    "valid = w_bias_merged.dropna(subset=['EPS_true_y1', 'AE_y1'])\n",
    "\n",
    "# Check if actual != forecast\n",
    "diff = valid['EPS_true_y1'] != valid['AE_y1']\n",
    "\n",
    "# Compute percentage\n",
    "diff_rate = diff.mean()\n",
    "print(f\"Percentage of EPS_true_y1 ≠ AE_y1: {diff_rate:.2%} ({diff.sum()} out of {len(valid)} rows)\")"
   ]
  },
  {
   "cell_type": "code",
   "execution_count": 7,
   "id": "f43d62b1-d2ab-4f4e-b585-f46d35e4db30",
   "metadata": {},
   "outputs": [],
   "source": [
    "# Save to Stata format\n",
    "w_bias_merged.to_stata('./data/w_bias_jz_y1_w_date.dta', write_index=False)"
   ]
  },
  {
   "cell_type": "code",
   "execution_count": null,
   "id": "fe891f42-f007-459b-99d4-1bfed7897d47",
   "metadata": {},
   "outputs": [],
   "source": [
    "df_test = df_test[df_test['EPS_true_q1'].notna()]"
   ]
  },
  {
   "cell_type": "markdown",
   "id": "d5798e2b-c852-41a8-a71d-564f5464c9d9",
   "metadata": {},
   "source": [
    "# New Test"
   ]
  },
  {
   "cell_type": "code",
   "execution_count": 17,
   "id": "1fda6d62-d117-4177-beae-bbe36ac6b9b4",
   "metadata": {},
   "outputs": [],
   "source": [
    "df_test = pd.read_parquet('./data/Results/df_train_new.parquet')"
   ]
  },
  {
   "cell_type": "code",
   "execution_count": 18,
   "id": "ea11aa7b-3346-4d36-8f1d-053b142129a9",
   "metadata": {},
   "outputs": [],
   "source": [
    "df_test = df_test[df_test['EPS_true_q1'].notna()]"
   ]
  },
  {
   "cell_type": "code",
   "execution_count": 19,
   "id": "ddbd43d5-2f78-4d22-9394-34a1b9d0d02c",
   "metadata": {},
   "outputs": [
    {
     "name": "stdout",
     "output_type": "stream",
     "text": [
      "1244903\n"
     ]
    }
   ],
   "source": [
    "print(df_test.shape[0])"
   ]
  },
  {
   "cell_type": "code",
   "execution_count": 20,
   "id": "a5635b79-a83a-4df9-abd9-eadf0bfec661",
   "metadata": {},
   "outputs": [
    {
     "name": "stdout",
     "output_type": "stream",
     "text": [
      "1348775\n"
     ]
    }
   ],
   "source": [
    "# Read the Stata file\n",
    "df_train_a1_U = pd.read_stata('./data/Results/df_train_a1_U.dta')\n",
    "\n",
    "# Print number of rows\n",
    "print(len(df_train_a1_U))"
   ]
  },
  {
   "cell_type": "code",
   "execution_count": 22,
   "id": "62dff087-c578-4ce1-aec5-dfc95766f689",
   "metadata": {},
   "outputs": [
    {
     "name": "stdout",
     "output_type": "stream",
     "text": [
      "_merge\n",
      "both          1207455\n",
      "right_only     141320\n",
      "left_only       37448\n",
      "Name: count, dtype: int64\n"
     ]
    }
   ],
   "source": [
    "# Convert both yearmonth columns to consistent string format 'YYYY-MM'\n",
    "df_test_renamed['yearmonth'] = pd.to_datetime(df_test_renamed['yearmonth']).dt.to_period('M').astype(str)\n",
    "df_train_a1_U['yearmonth'] = pd.to_datetime(df_train_a1_U['yearmonth']).dt.to_period('M').astype(str)\n",
    "\n",
    "# Now do the merge\n",
    "merged = df_test_renamed.merge(\n",
    "    df_train_a1_U,\n",
    "    on=['permno', 'yearmonth'],\n",
    "    how='outer',\n",
    "    indicator=True\n",
    ")\n",
    "\n",
    "# Check match result\n",
    "print(merged['_merge'].value_counts())"
   ]
  },
  {
   "cell_type": "code",
   "execution_count": 12,
   "id": "52ad475e-2b1d-4171-a79e-26370c1dad69",
   "metadata": {},
   "outputs": [
    {
     "name": "stdout",
     "output_type": "stream",
     "text": [
      "['EPS_ana_q1', 'EPS_true_q1', 'EPS_true_l1_q1', 'ANNDATS_q1', 'ANNDATS_l1_q1', 'permno', 'YearMonth', 'EPS_ana_q2', 'EPS_true_q2', 'EPS_true_l1_q2', 'ANNDATS_q2', 'ANNDATS_l1_x', 'EPS_ana_q3', 'EPS_true_q3', 'EPS_true_l1_q3', 'ANNDATS_q3', 'ANNDATS_l1_y', 'EPS_ana_y1', 'EPS_true_y1', 'EPS_true_l1_y1', 'ANNDATS_y1', 'ANNDATS_l1_y1', 'EPS_ana_y2', 'EPS_true_y2', 'EPS_true_l1_y2', 'ANNDATS_y2', 'ANNDATS_l1_y2', 'siccd', 'ret', 'prc', 'bh1m', 'shrout', 'ME', 'prc_l1', 'gvkey', 'adate', 'qdate', 'public_date', 'CAPEI', 'bm', 'evm', 'pe_op_basic', 'pe_op_dil', 'pe_exi', 'pe_inc', 'ps', 'pcf', 'dpr', 'npm', 'opmbd', 'opmad', 'gpm', 'ptpm', 'cfm', 'roa', 'roe', 'roce', 'efftax', 'aftret_eq', 'aftret_invcapx', 'aftret_equity', 'pretret_noa', 'pretret_earnat', 'GProf', 'equity_invcap', 'debt_invcap', 'totdebt_invcap', 'capital_ratio', 'int_debt', 'int_totdebt', 'cash_lt', 'invt_act', 'rect_act', 'debt_at', 'debt_ebitda', 'short_debt', 'curr_debt', 'lt_debt', 'profit_lct', 'ocf_lct', 'cash_debt', 'fcf_ocf', 'lt_ppent', 'dltt_be', 'debt_assets', 'debt_capital', 'de_ratio', 'intcov', 'intcov_ratio', 'cash_ratio', 'quick_ratio', 'curr_ratio', 'cash_conversion', 'inv_turn', 'at_turn', 'rect_turn', 'pay_turn', 'sale_invcap', 'sale_equity', 'sale_nwc', 'rd_sale', 'adv_sale', 'staff_sale', 'accrual', 'ptb', 'PEG_trailing', 'divyield', 'PEG_1yrforward', 'PEG_ltgforward', 'TICKER', 'cusip', 'datadate', 'sich', 'sic', 'fama49', 'dividend_p', 'BE_p', 'Liability_p', 'cur_liability_p', 'LT_debt_p', 'cash_p', 'total_asset_p', 'tot_debt_p', 'accrual_p', 'EBIT_p', 'cur_asset_p', 'pbda_p', 'ocf_p', 'inventory_p', 'receivables_p', 'Cur_debt_p', 'interest_p', 'fcf_ocf_p', 'evm_p', 'sales_p', 'invcap_p', 'c_equity_p', 'rd_p', 'opmad_p', 'gpm_p', 'ptpm_p', 'RGDP', 'RCON', 'INDPROD', 'UNEMP']\n"
     ]
    }
   ],
   "source": [
    "print(df_test.columns.tolist())"
   ]
  },
  {
   "cell_type": "code",
   "execution_count": 14,
   "id": "ba9eea4c-d296-4ab9-a7a1-41ad4a468d3e",
   "metadata": {},
   "outputs": [
    {
     "name": "stdout",
     "output_type": "stream",
     "text": [
      "['v1', 'statpers', 'fpedats', 'eps_ana_y1', 'eps_true_y1', 'eps_true_l1_y1', 'anndats_y1', 'anndats_l1_y1', 'permno', 'yearmonth', 'siccd', 'ret', 'prc', 'bh1m', 'shrout', 'me', 'prc_l1', 'gvkey', 'adate', 'qdate', 'public_date', 'capei', 'bm', 'evm', 'pe_op_basic', 'pe_op_dil', 'pe_exi', 'pe_inc', 'ps', 'pcf', 'dpr', 'npm', 'opmbd', 'opmad', 'gpm', 'ptpm', 'cfm', 'roa', 'roe', 'roce', 'efftax', 'aftret_eq', 'aftret_invcapx', 'aftret_equity', 'pretret_noa', 'pretret_earnat', 'gprof', 'equity_invcap', 'debt_invcap', 'totdebt_invcap', 'capital_ratio', 'int_debt', 'int_totdebt', 'cash_lt', 'invt_act', 'rect_act', 'debt_at', 'debt_ebitda', 'short_debt', 'curr_debt', 'lt_debt', 'profit_lct', 'ocf_lct', 'cash_debt', 'fcf_ocf', 'lt_ppent', 'dltt_be', 'debt_assets', 'debt_capital', 'de_ratio', 'intcov', 'intcov_ratio', 'cash_ratio', 'quick_ratio', 'curr_ratio', 'cash_conversion', 'inv_turn', 'at_turn', 'rect_turn', 'pay_turn', 'sale_invcap', 'sale_equity', 'sale_nwc', 'rd_sale', 'adv_sale', 'staff_sale', 'accrual', 'ptb', 'peg_trailing', 'divyield', 'peg_1yrforward', 'peg_ltgforward', 'ticker', 'cusip', 'datadate', 'sich', 'sic', 'fama49', 'dividend_p', 'be_p', 'liability_p', 'cur_liability_p', 'lt_debt_p', 'cash_p', 'total_asset_p', 'tot_debt_p', 'accrual_p', 'ebit_p', 'cur_asset_p', 'pbda_p', 'ocf_p', 'inventory_p', 'receivables_p', 'cur_debt_p', 'interest_p', 'fcf_ocf_p', 'evm_p', 'sales_p', 'invcap_p', 'c_equity_p', 'rd_p', 'opmad_p', 'gpm_p', 'ptpm_p', 'rgdp', 'rcon', 'indprod', 'unemp']\n"
     ]
    }
   ],
   "source": [
    "print(df_train_a1_U.columns.tolist())"
   ]
  },
  {
   "cell_type": "code",
   "execution_count": 23,
   "id": "3e18eb10-4fc9-465f-9687-a12ab0c3e169",
   "metadata": {},
   "outputs": [
    {
     "name": "stdout",
     "output_type": "stream",
     "text": [
      "Rows only in df_test_renamed (left_only):\n",
      "      permno yearmonth\n",
      "192  10001.0   2014-09\n",
      "335  10008.0   1988-04\n",
      "336  10008.0   1988-07\n",
      "410  10010.0   1995-01\n",
      "411  10010.0   1995-02\n",
      "Total left_only: 37448\n",
      "\n",
      "Rows only in df_train_a1_U (right_only):\n",
      "    permno yearmonth\n",
      "0  10001.0   1989-03\n",
      "1  10001.0   1989-04\n",
      "2  10001.0   1989-05\n",
      "3  10001.0   1989-06\n",
      "4  10001.0   1989-07\n",
      "Total right_only: 141320\n"
     ]
    }
   ],
   "source": [
    "# Rows in df_test_renamed but not in df_train_a1_U\n",
    "left_only = merged[merged['_merge'] == 'left_only']\n",
    "print(\"Rows only in df_test_renamed (left_only):\")\n",
    "print(left_only[['permno', 'yearmonth']].head())  # show a preview\n",
    "print(f\"Total left_only: {len(left_only)}\\n\")\n",
    "\n",
    "# Rows in df_train_a1_U but not in df_test_renamed\n",
    "right_only = merged[merged['_merge'] == 'right_only']\n",
    "print(\"Rows only in df_train_a1_U (right_only):\")\n",
    "print(right_only[['permno', 'yearmonth']].head())  # show a preview\n",
    "print(f\"Total right_only: {len(right_only)}\")"
   ]
  },
  {
   "cell_type": "code",
   "execution_count": 24,
   "id": "c2df3c2f-5609-47c1-8c99-886ee7c8fda2",
   "metadata": {},
   "outputs": [
    {
     "name": "stdout",
     "output_type": "stream",
     "text": [
      "df_test yearmonth range:\n",
      "1984-01-31 00:00:00 to 2019-12-31 00:00:00\n",
      "\n",
      "df_train_a1_U yearmonth range:\n",
      "1984-01-01 00:00:00 to 2019-12-01 00:00:00\n"
     ]
    }
   ],
   "source": [
    "# Ensure yearmonth is datetime\n",
    "df_test['yearmonth'] = pd.to_datetime(df_test['YearMonth'])  # or 'yearmonth' if already renamed\n",
    "df_train_a1_U['yearmonth'] = pd.to_datetime(df_train_a1_U['yearmonth'])\n",
    "\n",
    "# Print date ranges\n",
    "print(\"df_test yearmonth range:\")\n",
    "print(df_test['yearmonth'].min(), \"to\", df_test['yearmonth'].max())\n",
    "\n",
    "print(\"\\ndf_train_a1_U yearmonth range:\")\n",
    "print(df_train_a1_U['yearmonth'].min(), \"to\", df_train_a1_U['yearmonth'].max())"
   ]
  },
  {
   "cell_type": "code",
   "execution_count": 25,
   "id": "53adb70a-008f-42f0-8893-da78f17eb43e",
   "metadata": {},
   "outputs": [
    {
     "name": "stdout",
     "output_type": "stream",
     "text": [
      "Row count after subsetting to common yearmonth range:\n",
      "df_test_sub: 1241992\n",
      "df_train_a1_U_sub: 1347561\n"
     ]
    }
   ],
   "source": [
    "# 1. Convert to datetime if not already\n",
    "df_test['yearmonth'] = pd.to_datetime(df_test['yearmonth'])\n",
    "df_train_a1_U['yearmonth'] = pd.to_datetime(df_train_a1_U['yearmonth'])\n",
    "\n",
    "# 2. Find the overlapping range\n",
    "start = max(df_test['yearmonth'].min(), df_train_a1_U['yearmonth'].min())\n",
    "end = min(df_test['yearmonth'].max(), df_train_a1_U['yearmonth'].max())\n",
    "\n",
    "# 3. Subset both datasets to the common date range\n",
    "df_test_sub = df_test[(df_test['yearmonth'] >= start) & (df_test['yearmonth'] <= end)]\n",
    "df_train_a1_U_sub = df_train_a1_U[(df_train_a1_U['yearmonth'] >= start) & (df_train_a1_U['yearmonth'] <= end)]\n",
    "\n",
    "# 4. Print row counts after subsetting\n",
    "print(\"Row count after subsetting to common yearmonth range:\")\n",
    "print(f\"df_test_sub: {len(df_test_sub)}\")\n",
    "print(f\"df_train_a1_U_sub: {len(df_train_a1_U_sub)}\")"
   ]
  },
  {
   "cell_type": "code",
   "execution_count": null,
   "id": "b5503c4c-3d65-4119-8fae-be384910fe6d",
   "metadata": {},
   "outputs": [],
   "source": []
  }
 ],
 "metadata": {
  "kernelspec": {
   "display_name": "Python 3 (ipykernel)",
   "language": "python",
   "name": "python3"
  },
  "language_info": {
   "codemirror_mode": {
    "name": "ipython",
    "version": 3
   },
   "file_extension": ".py",
   "mimetype": "text/x-python",
   "name": "python",
   "nbconvert_exporter": "python",
   "pygments_lexer": "ipython3",
   "version": "3.9.6"
  }
 },
 "nbformat": 4,
 "nbformat_minor": 5
}
